{
 "cells": [
  {
   "cell_type": "code",
   "execution_count": 1,
   "id": "c3bd5744-cd49-43e7-b7c9-553b69aa9aca",
   "metadata": {},
   "outputs": [],
   "source": [
    "# Question No-1"
   ]
  },
  {
   "cell_type": "code",
   "execution_count": 2,
   "id": "968bdfd3-121d-4cf4-aed8-ef92b415fa9e",
   "metadata": {},
   "outputs": [],
   "source": [
    "class vehicle:\n",
    "    def __init__(self,name_of_vehicle,max_speed,average_of_vehicle):\n",
    "        self.name_of_vehicle = name_of_vehicle\n",
    "        self.max_speed = max_speed\n",
    "        self.average_of_vehicle = average_of_vehicle"
   ]
  },
  {
   "cell_type": "code",
   "execution_count": 3,
   "id": "555eeb1e-9b14-47bc-a177-c5d366a5a1f1",
   "metadata": {},
   "outputs": [],
   "source": [
    "# Question No-2"
   ]
  },
  {
   "cell_type": "code",
   "execution_count": 19,
   "id": "7e5e5f56-6ab0-4b3f-a079-1fab2546d084",
   "metadata": {},
   "outputs": [
    {
     "data": {
      "text/plain": [
       "('CRETA', 7)"
      ]
     },
     "execution_count": 19,
     "metadata": {},
     "output_type": "execute_result"
    }
   ],
   "source": [
    "class car(vehicle):\n",
    "    def seating_capacity(self,capacity):\n",
    "        return self.name_of_vehicle, capacity\n",
    "a = car(\"CRETA\",100,20)\n",
    "a.seating_capacity(7)"
   ]
  },
  {
   "cell_type": "code",
   "execution_count": 20,
   "id": "a0c8fc85-d31f-4e65-80a6-4aa8d5b96041",
   "metadata": {},
   "outputs": [],
   "source": [
    "# Question No-3"
   ]
  },
  {
   "cell_type": "code",
   "execution_count": 21,
   "id": "5f9eeeea-d4c2-4a5d-ad9a-04152e4f1162",
   "metadata": {},
   "outputs": [
    {
     "data": {
      "text/plain": [
       "' This is second parent class'"
      ]
     },
     "execution_count": 21,
     "metadata": {},
     "output_type": "execute_result"
    }
   ],
   "source": [
    "# Multiple Inheritance is a type of inheritance property of classes in which more than one class are inherited by child class.\n",
    "class class1:\n",
    "    def fclass1(self):\n",
    "        return \" This is the parent class\"\n",
    "class class2:\n",
    "    def fclass2(self):\n",
    "        return \" This is second parent class\"\n",
    "class class3(class1,class2):\n",
    "    pass\n",
    "b = class3()\n",
    "b.fclass2()"
   ]
  },
  {
   "cell_type": "code",
   "execution_count": 22,
   "id": "0e0d7379-12c0-465a-9d7e-47664d252486",
   "metadata": {},
   "outputs": [],
   "source": [
    "# Question No-4"
   ]
  },
  {
   "cell_type": "code",
   "execution_count": 52,
   "id": "e7878f6c-420b-4b85-98c4-a6cb839f47f9",
   "metadata": {},
   "outputs": [
    {
     "name": "stdout",
     "output_type": "stream",
     "text": [
      "200\n"
     ]
    },
    {
     "data": {
      "text/plain": [
       "250"
      ]
     },
     "execution_count": 52,
     "metadata": {},
     "output_type": "execute_result"
    }
   ],
   "source": [
    "\"\"\" Getter are used to give access of the encapsulated code to the user.\n",
    "    setter are used to set value for the restricted or encapsulated part of the code by the user. \"\"\"\n",
    "class vehicle:\n",
    "    def __init__(self,name_of_vehicle,max_speed):\n",
    "        self.name_of_vehicle = name_of_vehicle\n",
    "        self.__max_speed = max_speed\n",
    "    @property\n",
    "    def access(self):\n",
    "        return self.__max_speed\n",
    "    @access.getter\n",
    "    def gett(self):\n",
    "        return self.__max_speed\n",
    "    @access.setter\n",
    "    def sett(self,new):\n",
    "        if new >= 150:\n",
    "            self.__max_speed = new\n",
    "        else:\n",
    "            pass\n",
    "a = vehicle(\"Audi\",200)\n",
    "print(a.gett)\n",
    "a.sett = 250\n",
    "a.gett"
   ]
  },
  {
   "cell_type": "code",
   "execution_count": 53,
   "id": "5518f713-57fd-4e48-aa2b-1f28545434cf",
   "metadata": {},
   "outputs": [],
   "source": [
    "# Question No-5"
   ]
  },
  {
   "cell_type": "code",
   "execution_count": 63,
   "id": "c9a2b1e6-2f44-4124-942d-aecf2d6d2be3",
   "metadata": {},
   "outputs": [
    {
     "name": "stdout",
     "output_type": "stream",
     "text": [
      "9\n",
      "27\n"
     ]
    }
   ],
   "source": [
    "\"\"\" Method overriding allows child class to provide specific implementation of a method that is already provided by one of its parent class. \"\"\"\n",
    "# Example- Here the method square was overrided by child class. When object is called for both the respective class they give different \n",
    "class parent:\n",
    "    def sqaure(self,n):\n",
    "        return n*n\n",
    "class child(parent):\n",
    "    def sqaure(self,n):\n",
    "        return n**3\n",
    "a = parent()\n",
    "print(a.sqaure(3))    \n",
    "b = child()\n",
    "print(b.sqaure(3))"
   ]
  }
 ],
 "metadata": {
  "kernelspec": {
   "display_name": "Python 3 (ipykernel)",
   "language": "python",
   "name": "python3"
  },
  "language_info": {
   "codemirror_mode": {
    "name": "ipython",
    "version": 3
   },
   "file_extension": ".py",
   "mimetype": "text/x-python",
   "name": "python",
   "nbconvert_exporter": "python",
   "pygments_lexer": "ipython3",
   "version": "3.10.6"
  }
 },
 "nbformat": 4,
 "nbformat_minor": 5
}
