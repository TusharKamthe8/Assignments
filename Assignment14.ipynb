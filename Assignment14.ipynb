{
 "cells": [
  {
   "cell_type": "code",
   "execution_count": 1,
   "id": "5a0549bc-0e48-4052-b36d-07a8a9f4536f",
   "metadata": {},
   "outputs": [],
   "source": [
    "# Question No-1"
   ]
  },
  {
   "cell_type": "code",
   "execution_count": 2,
   "id": "c7ae59c5-cc52-4ba9-8c4c-e976e28e641c",
   "metadata": {},
   "outputs": [
    {
     "data": {
      "text/plain": [
       "\" Multithreading runs multiple threads simultaneously within a single process. It ensures effective utilization of computer system resources.\\n    Which makes applications more responsive. 'threading' module is used to perform multithreading. \""
      ]
     },
     "execution_count": 2,
     "metadata": {},
     "output_type": "execute_result"
    }
   ],
   "source": [
    "\"\"\" Multithreading runs multiple threads simultaneously within a single process. It ensures effective utilization of computer system resources.\n",
    "    Which makes applications more responsive. 'threading' module is used to perform multithreading. \"\"\""
   ]
  },
  {
   "cell_type": "code",
   "execution_count": 3,
   "id": "65012fd3-e1c7-4468-983c-d6360bde3b53",
   "metadata": {},
   "outputs": [],
   "source": [
    "# Question No-2"
   ]
  },
  {
   "cell_type": "code",
   "execution_count": 4,
   "id": "f658bd37-0e46-4b93-ad7b-f0d0fa76429f",
   "metadata": {},
   "outputs": [
    {
     "data": {
      "text/plain": [
       "\" We need to import threading module in python use multithreading in python. A threading module is made up of thread class which is made upto \\n    create thread in python. Methods provided by threading module are:\\n    1)activeCount()- Returns count of active thread objects.\\n    2)currentThread()- Returns number of thread objects in caller's thread control.\\n    3)enumrate()- Returns list of all active threads. \""
      ]
     },
     "execution_count": 4,
     "metadata": {},
     "output_type": "execute_result"
    }
   ],
   "source": [
    "\"\"\" We need to import threading module in python use multithreading in python. A threading module is made up of thread class which is made upto \n",
    "    create thread in python. Methods provided by threading module are:\n",
    "    1)activeCount()- Returns count of active thread objects.\n",
    "    2)currentThread()- Returns number of thread objects in caller's thread control.\n",
    "    3)enumrate()- Returns list of all active threads. \"\"\""
   ]
  },
  {
   "cell_type": "code",
   "execution_count": 5,
   "id": "a7b394e1-97f7-40fb-a5ed-dee283741566",
   "metadata": {},
   "outputs": [],
   "source": [
    "# Question No-3"
   ]
  },
  {
   "cell_type": "code",
   "execution_count": 6,
   "id": "d26aee6d-7b56-4c9a-90f5-032c13459b95",
   "metadata": {},
   "outputs": [
    {
     "data": {
      "text/plain": [
       "\"\\n    1)run()- It is used to define thread's activity.\\n    2)start()- It initiates activity of a thread by calling run method.\\n    3)join()- It is used to block execution another code until thread terminates.\\n    4)isalive()- It is used to track whether a thread is still execution or not. \""
      ]
     },
     "execution_count": 6,
     "metadata": {},
     "output_type": "execute_result"
    }
   ],
   "source": [
    "\"\"\"\n",
    "    1)run()- It is used to define thread's activity.\n",
    "    2)start()- It initiates activity of a thread by calling run method.\n",
    "    3)join()- It is used to block execution another code until thread terminates.\n",
    "    4)isalive()- It is used to track whether a thread is still execution or not. \"\"\""
   ]
  },
  {
   "cell_type": "code",
   "execution_count": 7,
   "id": "e18576e4-3f54-4ab7-b89c-d8e7748f6c57",
   "metadata": {},
   "outputs": [],
   "source": [
    "# Question No-4"
   ]
  },
  {
   "cell_type": "code",
   "execution_count": 36,
   "id": "cdd43c1d-b433-4df9-8205-a86a4e6b079a",
   "metadata": {},
   "outputs": [
    {
     "name": "stdout",
     "output_type": "stream",
     "text": [
      "Square of 0 is 0\n",
      "Square of 1 is 1\n",
      "Square of 2 is 4\n",
      "Square of 3 is 9\n",
      "Square of 4 is 16\n",
      "Square of 5 is 25\n",
      "Square of 6 is 36\n",
      "Square of 7 is 49\n",
      "Square of 8 is 64\n",
      "Square of 9 is 81\n",
      "Cube of 0 is 0\n",
      "Cube of 1 is 1\n",
      "Cube of 2 is 8\n",
      "Cube of 3 is 27\n",
      "Cube of 4 is 64\n",
      "Cube of 5 is 125\n",
      "Cube of 6 is 216\n",
      "Cube of 7 is 343\n",
      "Cube of 8 is 512\n",
      "Cube of 9 is 729\n"
     ]
    }
   ],
   "source": [
    "# Thread for list of squares\n",
    "import threading\n",
    "def square(num):\n",
    "    print(\"Square of %d is %d\"%(num,num**2))\n",
    "thread = [threading.Thread(target = square,args=(i,)) for i in range(10)]\n",
    "for t in thread:\n",
    "    t.start()\n",
    "    t.join()\n",
    "    \n",
    "# Thread for list of cube\n",
    "def cube(num):\n",
    "    print(\"Cube of %d is %d\"%(num,num**3))\n",
    "thread = [threading.Thread(target = cube,args=(i,)) for i in range(10)]\n",
    "for t in thread:\n",
    "    t.start()\n",
    "    t.join()"
   ]
  },
  {
   "cell_type": "code",
   "execution_count": 30,
   "id": "a74e52a1-6235-4811-865f-085d3c43f6de",
   "metadata": {},
   "outputs": [],
   "source": [
    "# Question No-5"
   ]
  },
  {
   "cell_type": "code",
   "execution_count": 32,
   "id": "5c123e04-0c05-414b-888c-a23cb1ff4d2a",
   "metadata": {},
   "outputs": [
    {
     "data": {
      "text/plain": [
       "' \\n    Advantages:\\n                1. Due to independence of threads the user is not blocked.\\n                2. As the threads are executed parallel hence resources are used efficiently.\\n                3. Multiproccesor machines are used more efficiently by multithreading..\\n        \\n    Disavantages:\\n                1. As the number of threads increase the complexity also increases.\\n                2. Multiple threads utlilise same resources hence there must be proper synchronization.\\n                3. The process of constructing and synchronizing the threads is very intensive. '"
      ]
     },
     "execution_count": 32,
     "metadata": {},
     "output_type": "execute_result"
    }
   ],
   "source": [
    "\"\"\" \n",
    "    Advantages:\n",
    "                1. Due to independence of threads the user is not blocked.\n",
    "                2. As the threads are executed parallel hence resources are used efficiently.\n",
    "                3. Multiproccesor machines are used more efficiently by multithreading..\n",
    "        \n",
    "    Disavantages:\n",
    "                1. As the number of threads increase the complexity also increases.\n",
    "                2. Multiple threads utlilise same resources hence there must be proper synchronization.\n",
    "                3. The process of constructing and synchronizing the threads is very intensive. \"\"\""
   ]
  },
  {
   "cell_type": "code",
   "execution_count": 33,
   "id": "b7f2a06d-2309-4fee-96c6-e619d340e40f",
   "metadata": {},
   "outputs": [],
   "source": [
    "# Question No-6"
   ]
  },
  {
   "cell_type": "code",
   "execution_count": 35,
   "id": "6f42ffbd-1cf7-4645-af2c-14231db43af9",
   "metadata": {},
   "outputs": [
    {
     "data": {
      "text/plain": [
       "\" 1)Deadlock conditions- \\n                        Deadlock condition occur when a thread has to held for another resource to be accessed as it is been accessed by another thread and remains waiting \\n                        with current variable, if this vairable is needed by the other thread then at also cannot be access. Which creates another waiting condition and this \\n                        won't end which causes a deadlock. The best way to avoid this is to avoid crossing of proccess and need to lock anything as much as we can.\\n    \\n   2) Race conditions- \\n                       Race condition occurs when two threads try to access shared variables simultaneously. Then both the variables race to see which thread writes the value of \\n                       variable last. The value writteen at last is preserved as the previous ones are written of by the latest one. To prevent this lock class is used. This class \\n                       prevents race condition by making value of the varaible accessable for threads but not updating it as per their output. The variable accessed is updated to \\n                       previous values irrespective of thread result. \""
      ]
     },
     "execution_count": 35,
     "metadata": {},
     "output_type": "execute_result"
    }
   ],
   "source": [
    "\"\"\" 1)Deadlock conditions- \n",
    "                        Deadlock condition occur when a thread has to held for another resource to be accessed as it is been accessed by another thread and remains waiting \n",
    "                        with current variable, if this vairable is needed by the other thread then at also cannot be access. Which creates another waiting condition and this \n",
    "                        won't end which causes a deadlock. The best way to avoid this is to avoid crossing of proccess and need to lock anything as much as we can.\n",
    "    \n",
    "   2) Race conditions- \n",
    "                       Race condition occurs when two threads try to access shared variables simultaneously. Then both the variables race to see which thread writes the value of \n",
    "                       variable last. The value writteen at last is preserved as the previous ones are written of by the latest one. To prevent this lock class is used. This class \n",
    "                       prevents race condition by making value of the varaible accessable for threads but not updating it as per their output. The variable accessed is updated to \n",
    "                       previous values irrespective of thread result. \"\"\""
   ]
  },
  {
   "cell_type": "code",
   "execution_count": null,
   "id": "629b95e1-3bdb-41c4-9a38-0aea79672497",
   "metadata": {},
   "outputs": [],
   "source": []
  }
 ],
 "metadata": {
  "kernelspec": {
   "display_name": "Python 3 (ipykernel)",
   "language": "python",
   "name": "python3"
  },
  "language_info": {
   "codemirror_mode": {
    "name": "ipython",
    "version": 3
   },
   "file_extension": ".py",
   "mimetype": "text/x-python",
   "name": "python",
   "nbconvert_exporter": "python",
   "pygments_lexer": "ipython3",
   "version": "3.10.6"
  }
 },
 "nbformat": 4,
 "nbformat_minor": 5
}
