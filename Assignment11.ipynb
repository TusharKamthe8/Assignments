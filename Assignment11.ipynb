{
 "cells": [
  {
   "cell_type": "code",
   "execution_count": 1,
   "id": "5e8d83a5-a1f4-4126-927b-df71a95733b2",
   "metadata": {},
   "outputs": [],
   "source": [
    "# Question No-1"
   ]
  },
  {
   "cell_type": "code",
   "execution_count": 7,
   "id": "de3de0a9-d715-4a78-8828-3513728f0a81",
   "metadata": {},
   "outputs": [
    {
     "data": {
      "text/plain": [
       "\" open() function is used to open a file. We can open files in different modes such as:\\n    1) read mode 'r'= used to open a file for reading.\\n    2) write mode 'w'= used to open a file for writing by truncating the file.\\n    3) new file mode 'x'= used to create a new file and open it for writing.\\n    4) append mode 'a'= used to open the file for writing appending to the end of eisting file if exists.\\n    5) binary mode 'b'= used to open files related to binary data with the read and write mode.\\n    6) text mode 't'= used to open text files. It is a default mode.\\n    7) open disk file mode '+'= used to open a disk file and update it\\n    8) universal new line mode 'U'= used to open files and add new line avoiding to appen into existing file. \""
      ]
     },
     "execution_count": 7,
     "metadata": {},
     "output_type": "execute_result"
    }
   ],
   "source": [
    "\"\"\" open() function is used to open a file. We can open files in different modes such as:\n",
    "    1) read mode 'r'= used to open a file for reading.\n",
    "    2) write mode 'w'= used to open a file for writing by truncating the file.\n",
    "    3) new file mode 'x'= used to create a new file and open it for writing.\n",
    "    4) append mode 'a'= used to open the file for writing appending to the end of eisting file if exists.\n",
    "    5) binary mode 'b'= used to open files related to binary data with the read and write mode.\n",
    "    6) text mode 't'= used to open text files. It is a default mode.\n",
    "    7) open disk file mode '+'= used to open a disk file and update it\n",
    "    8) universal new line mode 'U'= used to open files and add new line avoiding to appen into existing file. \"\"\""
   ]
  },
  {
   "cell_type": "code",
   "execution_count": 3,
   "id": "595d2c3c-eb62-43a2-9034-450204884f41",
   "metadata": {},
   "outputs": [],
   "source": [
    "# Question No-2"
   ]
  },
  {
   "cell_type": "code",
   "execution_count": 3,
   "id": "78a3ed00-e06b-46fd-8b48-7dffc4f845ad",
   "metadata": {},
   "outputs": [
    {
     "data": {
      "text/plain": [
       "\" When open a file using open() function in any type of mode. The file can't be accessed by other programs until it is closed.\\n    Hence we use close() function to close the file. It is a standard practice to close an opened file as \\n    a closed file reduces the risk of being unwarrantedly modified or read. \""
      ]
     },
     "execution_count": 3,
     "metadata": {},
     "output_type": "execute_result"
    }
   ],
   "source": [
    "\"\"\" When open a file using open() function in any type of mode. The file can't be accessed by other programs until it is closed.\n",
    "    Hence we use close() function to close the file. It is a standard practice to close an opened file as \n",
    "    a closed file reduces the risk of being unwarrantedly modified or read. \"\"\""
   ]
  },
  {
   "cell_type": "code",
   "execution_count": 5,
   "id": "b0aab397-ecae-48c3-8aa0-362f1b9d0dc0",
   "metadata": {},
   "outputs": [],
   "source": [
    "# Question No-3"
   ]
  },
  {
   "cell_type": "code",
   "execution_count": 26,
   "id": "e094f17c-ba5d-4d4d-803a-b804f42b8e67",
   "metadata": {},
   "outputs": [
    {
     "name": "stdout",
     "output_type": "stream",
     "text": [
      "I want to become a Data Scientist\n"
     ]
    }
   ],
   "source": [
    "a  = open(\"file1.txt\",'w')\n",
    "a.write(\"I want to become a Data Scientist\")\n",
    "a.close()\n",
    "a  = open(\"file1.txt\",'r')\n",
    "print(a.read())"
   ]
  },
  {
   "cell_type": "code",
   "execution_count": 9,
   "id": "ef146617-aa2c-4362-a45d-cd3f37a6580d",
   "metadata": {},
   "outputs": [],
   "source": [
    "# Question No-4"
   ]
  },
  {
   "cell_type": "code",
   "execution_count": 28,
   "id": "890b82dc-4b5f-4469-80d8-3ef2dd273c65",
   "metadata": {},
   "outputs": [
    {
     "name": "stdout",
     "output_type": "stream",
     "text": [
      "read output: I want to become a Data Scientist\n",
      "I want to become a Data Analyst\n",
      "readline output: I want to become a Data Scientist\n",
      "\n",
      "readline output: I want to become a Data Analyst\n",
      "readlines output: ['I want to become a Data Scientist\\n', 'I want to become a Data Analyst']\n"
     ]
    }
   ],
   "source": [
    "\"\"\"\n",
    "   1) read(): This read and returns a string of characters inside file. If read(n) is used then is gives string of n characters.\n",
    "   2) readline(): This return lines of the files. It can can be used multiple times to get the next lines of the file.\n",
    "   3) readlines(): This returns us a list of strings. Each string is of a single line in the file. \"\"\"\n",
    "\n",
    "\n",
    "# a) read() example:\n",
    "with open(\"file11.txt\",'w') as a:\n",
    "    a.write(\"I want to become a Data Scientist\\n\")\n",
    "    a.write(\"I want to become a Data Analyst\")\n",
    "with open(\"file11.txt\",'r') as a:\n",
    "    print(\"read output:\",a.read())\n",
    "    \n",
    "# b) readline() example:\n",
    "with open(\"file11.txt\",'r') as a:\n",
    "    print(\"readline output:\",a.readline())\n",
    "    print(\"readline output:\",a.readline())\n",
    "\n",
    "# c) readlines() example:\n",
    "with open(\"file11.txt\",'r') as a:\n",
    "    print(\"readlines output:\",a.readlines())"
   ]
  },
  {
   "cell_type": "code",
   "execution_count": 20,
   "id": "6eee7505-63c7-409e-a111-f32073cb0bab",
   "metadata": {},
   "outputs": [],
   "source": [
    "# Question No-5"
   ]
  },
  {
   "cell_type": "code",
   "execution_count": 4,
   "id": "22e51cda-0fe3-424b-a1d7-e4b4fa43fe53",
   "metadata": {},
   "outputs": [
    {
     "name": "stdout",
     "output_type": "stream",
     "text": [
      "Without with statement\n",
      "Using with statement\n"
     ]
    }
   ],
   "source": [
    "\"\"\" with statement is used with open() to open file in any of the mode and assign alias to it. \n",
    "    Further we can use the alias to perform operations on the opened file.\n",
    "    \n",
    "    If we open a file by assigning a variable then we have to close the file. Unless the file is closed it can't be accessed by another program.\n",
    "    By using the with statement we don't have to close the file, with statement takes care of closing the file. Which makes using with statement\n",
    "    a reliable and easy way to code. \"\"\"\n",
    "# example of open file without with statement.\n",
    "a = open(\"file1\",'w')\n",
    "a.write(\"Without with statement\")\n",
    "a.close\n",
    "a = open(\"file1\",'r')\n",
    "print(a.read())\n",
    "\n",
    "# example of open file using with statement.\n",
    "with open(\"file1.txt\",'w') as a:\n",
    "    a.write(\"Using with statement\")\n",
    "with open(\"file1.txt\",'r') as a:\n",
    "    print(a.read())\n",
    "\n"
   ]
  },
  {
   "cell_type": "code",
   "execution_count": 30,
   "id": "84c362fb-1595-43ea-b3ef-9f5e2a05718d",
   "metadata": {},
   "outputs": [],
   "source": [
    "# Question No-6"
   ]
  },
  {
   "cell_type": "code",
   "execution_count": 35,
   "id": "3544df61-3df9-4d77-b9f3-9952f6a2052a",
   "metadata": {},
   "outputs": [
    {
     "name": "stdout",
     "output_type": "stream",
     "text": [
      "Example of write function\n",
      "Example of writelines function.\n"
     ]
    }
   ],
   "source": [
    "\"\"\" \n",
    "    1) write() function: Write function helps us to write into the opened file. For this the file must be open in write mode or append mode.\n",
    "    2) writelines() function: Writelines function helps us to write items of a list into the opened file. For this the file must be open in \n",
    "       write mode or append mode. \"\"\"\n",
    "# a) write() example:\n",
    "with open(\"file12.txt\",'w') as a:\n",
    "    a.write(\"Example of write function\")\n",
    "with open(\"file12.txt\",'r') as a:\n",
    "    print(a.read())\n",
    "\n",
    "# b) writelines() example:\n",
    "with open(\"file12.txt\",'w') as a:\n",
    "    a.writelines([\"Example \",\"of \",\"writelines \",\"function.\"])\n",
    "with open(\"file12.txt\",'r') as a:\n",
    "    print(a.read())"
   ]
  }
 ],
 "metadata": {
  "kernelspec": {
   "display_name": "Python 3 (ipykernel)",
   "language": "python",
   "name": "python3"
  },
  "language_info": {
   "codemirror_mode": {
    "name": "ipython",
    "version": 3
   },
   "file_extension": ".py",
   "mimetype": "text/x-python",
   "name": "python",
   "nbconvert_exporter": "python",
   "pygments_lexer": "ipython3",
   "version": "3.10.6"
  }
 },
 "nbformat": 4,
 "nbformat_minor": 5
}
