{
 "cells": [
  {
   "cell_type": "code",
   "execution_count": 1,
   "id": "2860b978-fafb-4503-b3c6-e496a71504f1",
   "metadata": {},
   "outputs": [],
   "source": [
    "# Question No-1"
   ]
  },
  {
   "cell_type": "code",
   "execution_count": 1,
   "id": "5b7cf470-521c-45d8-846b-e9426f233b8f",
   "metadata": {},
   "outputs": [
    {
     "data": {
      "text/plain": [
       "' 1)Exception is a condition in program that interupts the flow of the program and stops execution. It may happen due to \\n      some mistake in code as per the predefined exception of python.\\n    \\n    2)Syntax errors is thrown if proper syntax of the language is not used. While Exception are the condition that occur \\n      at compile time and run time. If syntax error test is pass then only exception may occur. '"
      ]
     },
     "execution_count": 1,
     "metadata": {},
     "output_type": "execute_result"
    }
   ],
   "source": [
    "\"\"\" 1)Exception is a condition in program that interupts the flow of the program and stops execution. It may happen due to \n",
    "      some mistake in code as per the predefined exception of python.\n",
    "    \n",
    "    2)Syntax errors is thrown if proper syntax of the language is not used. While Exception are the condition that occur \n",
    "      at compile time and run time. If syntax error test is pass then only exception may occur. \"\"\""
   ]
  },
  {
   "cell_type": "code",
   "execution_count": 39,
   "id": "35e6da51-f859-4f1b-a186-7a5d8ab87b4a",
   "metadata": {},
   "outputs": [],
   "source": [
    "# Question No-2"
   ]
  },
  {
   "cell_type": "code",
   "execution_count": 41,
   "id": "78e4ab09-a99c-4f57-baa5-c884dd71bc82",
   "metadata": {},
   "outputs": [
    {
     "ename": "FileNotFoundError",
     "evalue": "[Errno 2] No such file or directory: 'xx22.txt'",
     "output_type": "error",
     "traceback": [
      "\u001b[0;31m---------------------------------------------------------------------------\u001b[0m",
      "\u001b[0;31mFileNotFoundError\u001b[0m                         Traceback (most recent call last)",
      "Cell \u001b[0;32mIn [41], line 4\u001b[0m\n\u001b[1;32m      1\u001b[0m \u001b[38;5;124;03m\"\"\" As python runs code in sequential manner. If some part of code gets a error then the next block doesn't work. For this\u001b[39;00m\n\u001b[1;32m      2\u001b[0m \u001b[38;5;124;03m    purpose exception is handling is important practice to perform while coding \"\"\"\u001b[39;00m\n\u001b[1;32m      3\u001b[0m \u001b[38;5;66;03m# Example- Here the first line of code shows an error hencforth the scond line doen't execute for this exception handling is performed.\u001b[39;00m\n\u001b[0;32m----> 4\u001b[0m a \u001b[38;5;241m=\u001b[39m \u001b[38;5;28;43mopen\u001b[39;49m\u001b[43m(\u001b[49m\u001b[38;5;124;43m\"\u001b[39;49m\u001b[38;5;124;43mxx22.txt\u001b[39;49m\u001b[38;5;124;43m\"\u001b[39;49m\u001b[43m,\u001b[49m\u001b[38;5;124;43m'\u001b[39;49m\u001b[38;5;124;43mr\u001b[39;49m\u001b[38;5;124;43m'\u001b[39;49m\u001b[43m)\u001b[49m\n\u001b[1;32m      5\u001b[0m \u001b[38;5;28mprint\u001b[39m(\u001b[38;5;124m\"\u001b[39m\u001b[38;5;124mThis is second line\u001b[39m\u001b[38;5;124m\"\u001b[39m)\n",
      "\u001b[0;31mFileNotFoundError\u001b[0m: [Errno 2] No such file or directory: 'xx22.txt'"
     ]
    }
   ],
   "source": [
    "\"\"\" As python runs code in sequential manner. If some part of code gets a error then the next block doesn't work. For this\n",
    "    purpose exception is handling is important practice to perform while coding \"\"\"\n",
    "# Example- Here the first line of code shows an error hencforth the scond line doen't execute for this exception handling is performed.\n",
    "a = open(\"xx22.txt\",'r')\n",
    "print(\"This is second line\")"
   ]
  },
  {
   "cell_type": "code",
   "execution_count": 42,
   "id": "91817d46-bf6c-4a69-8e43-cbccffb291e8",
   "metadata": {},
   "outputs": [
    {
     "name": "stdout",
     "output_type": "stream",
     "text": [
      "Error occured [Errno 2] No such file or directory: 'xx22.txt'\n",
      "10\n"
     ]
    }
   ],
   "source": [
    "# Lets us try this code by exception handling- Here the except block handles the error and the next line after this aslo gets executed.\n",
    "try:\n",
    "    a = open(\"xx22.txt\",'r')\n",
    "except Exception as e:\n",
    "    print(\"Error occured\",e)\n",
    "print(5+5)"
   ]
  },
  {
   "cell_type": "code",
   "execution_count": 9,
   "id": "5ff549a3-3e23-425e-bd35-6f87809a64b0",
   "metadata": {},
   "outputs": [],
   "source": [
    "# Question No-3"
   ]
  },
  {
   "cell_type": "code",
   "execution_count": 16,
   "id": "b735b68b-71b0-4e82-bd4d-9db90863931f",
   "metadata": {},
   "outputs": [
    {
     "name": "stdout",
     "output_type": "stream",
     "text": [
      "Hello world!\n",
      "This will run compulsaryly\n"
     ]
    }
   ],
   "source": [
    "\"\"\" The statements used to catch and handle exception are:\n",
    "    1)Try: It contains the code which we want to test for exception\n",
    "    2)Except: It is used with a superclass called 'Exception' with an alias and contains code which we want to run if try block is\n",
    "              not executed properly.\n",
    "    3)Else: It contains a block of code which we want to run only if the try block runs successfully. If the except block has exceuted \n",
    "            the else block won't run.\n",
    "    4)Finally: It conatins block of code which we want to run irrespective of which block is been executed earlier. Finally block will \n",
    "               work in any situation. \"\"\"\n",
    "\"\"\" Example- Here the code inside the try block is exexcuted successfully. Hence the else block also get executed. Irrespective of \n",
    "    all this the finally block gets executed. \"\"\"\n",
    "try:\n",
    "    a = open(\"xx.txt\",'w')\n",
    "    a.write(\"Hello world!\")\n",
    "except Exception as e:\n",
    "    print(\"Error occured\",e)\n",
    "else:\n",
    "    a.close()\n",
    "    a = open(\"xx.txt\",'r')\n",
    "    print(a.read())\n",
    "finally:\n",
    "    print(\"This will run compulsaryly\")"
   ]
  },
  {
   "cell_type": "code",
   "execution_count": 17,
   "id": "4448c3d1-d64f-47da-a4d4-6ba57669e7ce",
   "metadata": {},
   "outputs": [],
   "source": [
    "# Question No-4"
   ]
  },
  {
   "cell_type": "code",
   "execution_count": 21,
   "id": "05c07165-9041-4092-a179-9507827b09ff",
   "metadata": {},
   "outputs": [
    {
     "name": "stdout",
     "output_type": "stream",
     "text": [
      "This is try block\n",
      "This is else block\n",
      "Error occured [Errno 2] No such file or directory: 'xx1.txt'\n",
      "This is finally block\n",
      "Distance cannot be negative\n"
     ]
    }
   ],
   "source": [
    "# Examples:\n",
    "\n",
    "# 1) try and else: Try and else are linked with each other if the try block is executed then only else block will get executed.\n",
    "try:\n",
    "    print(\"This is try block\")\n",
    "except Exception as e:\n",
    "    print(\"Error occured\",e)\n",
    "else:\n",
    "    print(\"This is else block\")\n",
    "    \n",
    "# 2) finally: finally block has a independent nature it will run no matter what happens in other blocks.\n",
    "try:\n",
    "    a = open(\"xx1.txt\",'r')\n",
    "except Exception as e:\n",
    "    print(\"Error occured\",e)\n",
    "else:\n",
    "    a.close()\n",
    "finally:\n",
    "    print(\"This is finally block\")\n",
    "    \n",
    "# 3) raise: When we create custom exception 'raise' is used to raise user made exception.\n",
    "class disterrorc(Exception):\n",
    "    def __init__(self,m):\n",
    "        self.m = m\n",
    "def disterror(dist):\n",
    "    if dist<0:\n",
    "        raise disterrorc(\"Distance cannot be negative\")\n",
    "    else:\n",
    "        print(\"Valid Distance\")\n",
    "try: \n",
    "    dis = -3\n",
    "    disterror(dis)\n",
    "except disterrorc as e:\n",
    "    print(e)"
   ]
  },
  {
   "cell_type": "code",
   "execution_count": 22,
   "id": "06a34c70-a93a-4bd8-a3fd-12586dbe9c6e",
   "metadata": {},
   "outputs": [],
   "source": [
    "# Question No-5"
   ]
  },
  {
   "cell_type": "code",
   "execution_count": 27,
   "id": "c36a46ca-c6f0-40b7-b15b-9356c2ceaf2b",
   "metadata": {},
   "outputs": [
    {
     "name": "stdout",
     "output_type": "stream",
     "text": [
      "Enter the Age: 210\n"
     ]
    },
    {
     "name": "stdout",
     "output_type": "stream",
     "text": [
      "Unvalid Age!\n"
     ]
    }
   ],
   "source": [
    "\"\"\" Custom exceptions are user defined exceptions. Which a user can define according to their requirement. \n",
    "    We need custom exceptions because we may not require certain type of inputs or values which are not deafultly avoided in python.\n",
    "    Hence we define such exceptions which suits our demand. \"\"\"\n",
    "\n",
    "# Example- We know that age of a person cannot be negative or more than 150. We will create custom exception for it.\n",
    "class agerror(Exception):\n",
    "    def __init__(self,m):\n",
    "        self.m = m\n",
    "def ageerror(age):\n",
    "    if age<0:\n",
    "        raise agerror(\"Age cannot be negative!\")\n",
    "    elif age>200:\n",
    "        raise agerror(\"Unvalid Age!\")\n",
    "    else:\n",
    "        print(\"Valid Age\")\n",
    "try: \n",
    "    a = int(input(\"Enter the Age:\"))\n",
    "    ageerror(a)\n",
    "except agerror as e:\n",
    "    print(e)"
   ]
  },
  {
   "cell_type": "code",
   "execution_count": 28,
   "id": "1e342f16-c6d1-4bed-b785-650bbbbdf682",
   "metadata": {},
   "outputs": [],
   "source": [
    "# Question No-6"
   ]
  },
  {
   "cell_type": "code",
   "execution_count": 37,
   "id": "6e28a914-6fe9-4370-a4e9-41ff058112fa",
   "metadata": {},
   "outputs": [
    {
     "name": "stdout",
     "output_type": "stream",
     "text": [
      "Enter the ID number: 123\n"
     ]
    },
    {
     "name": "stdout",
     "output_type": "stream",
     "text": [
      "Unvaild ID!\n"
     ]
    }
   ],
   "source": [
    "\"\"\" Here we want user to enter thier id numbers but we have certain criteria that id number must of length 5 only. \n",
    "    Let's create custom exception for it. \"\"\"\n",
    "\n",
    "class idd(Exception):\n",
    "    def __init__(self,m):\n",
    "        self.m = m\n",
    "def ids(idno):\n",
    "    if len(idno)!=5:\n",
    "        raise idd(\"Unvaild ID!\")\n",
    "    else:\n",
    "        print(\"Valid Id!\")\n",
    "try: \n",
    "    a = input(\"Enter the ID number:\")\n",
    "    ids(a)\n",
    "except idd as e:\n",
    "    print(e)"
   ]
  }
 ],
 "metadata": {
  "kernelspec": {
   "display_name": "Python 3",
   "language": "python",
   "name": "python3"
  },
  "language_info": {
   "codemirror_mode": {
    "name": "ipython",
    "version": 3
   },
   "file_extension": ".py",
   "mimetype": "text/x-python",
   "name": "python",
   "nbconvert_exporter": "python",
   "pygments_lexer": "ipython3",
   "version": "3.10.2"
  },
  "vscode": {
   "interpreter": {
    "hash": "f61610d804f9c786d7bf987d62155b9757c07a97465eafbd45346656f46c6fc1"
   }
  }
 },
 "nbformat": 4,
 "nbformat_minor": 5
}
