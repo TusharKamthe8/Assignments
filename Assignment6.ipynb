{
 "cells": [
  {
   "cell_type": "code",
   "execution_count": 1,
   "id": "4f4bc84a-8b03-46f8-9b99-4104640b333f",
   "metadata": {},
   "outputs": [],
   "source": [
    "# Question No-1"
   ]
  },
  {
   "cell_type": "code",
   "execution_count": 4,
   "id": "9d4072f0-fe08-411b-88bc-cad2c88705fd",
   "metadata": {},
   "outputs": [
    {
     "name": "stdout",
     "output_type": "stream",
     "text": [
      "This is an  example to explain class and object.\n"
     ]
    }
   ],
   "source": [
    "\"\"\" Class is blueprint of a real world entity but not specific to real world entity. \"\"\"\n",
    "\"\"\" Object is a real world entity. It is instance of a class. \"\"\"\n",
    "\"\"\" For example:\n",
    "       - Here \"class1\" is a class and \"o\" is an object. \"\"\"\n",
    "class class1:\n",
    "    def funct(self):\n",
    "        print(\"This is an  example to explain class and object.\")\n",
    "o = class1()\n",
    "o.funct()"
   ]
  },
  {
   "cell_type": "code",
   "execution_count": 5,
   "id": "03d6d3b8-9ec7-445b-825b-38359166fa92",
   "metadata": {},
   "outputs": [],
   "source": [
    "# Question No-2"
   ]
  },
  {
   "cell_type": "code",
   "execution_count": 6,
   "id": "1ec1003e-a2fe-4160-b852-471e301331b9",
   "metadata": {},
   "outputs": [
    {
     "data": {
      "text/plain": [
       "' The four pillars of OOPs are Abstraction, encapsulation, inheritance, polymorphism. '"
      ]
     },
     "execution_count": 6,
     "metadata": {},
     "output_type": "execute_result"
    }
   ],
   "source": [
    "\"\"\" The four pillars of OOPs are Abstraction, encapsulation, inheritance, polymorphism. \"\"\""
   ]
  },
  {
   "cell_type": "code",
   "execution_count": 7,
   "id": "e082ce08-a954-4dcb-bfbf-62e56abddc97",
   "metadata": {},
   "outputs": [],
   "source": [
    "# Question No-3"
   ]
  },
  {
   "cell_type": "code",
   "execution_count": 10,
   "id": "5847063c-e772-4c76-b119-2c39cac5c345",
   "metadata": {},
   "outputs": [
    {
     "data": {
      "text/plain": [
       "\" Using __init__ we can initialize the object's attributes. It is used inside the class. It let's us to pass the dataw hich we want to be neccsarily passed through class. \""
      ]
     },
     "execution_count": 10,
     "metadata": {},
     "output_type": "execute_result"
    }
   ],
   "source": [
    "\"\"\" Using __init__ we can initialize the object's attributes. It is used inside the class. It let's us to pass the dataw hich we want to be neccsarily passed through class. \"\"\""
   ]
  },
  {
   "cell_type": "code",
   "execution_count": 11,
   "id": "dae519fb-9884-4aa9-b110-9964649e306d",
   "metadata": {},
   "outputs": [],
   "source": [
    "# Question No-4"
   ]
  },
  {
   "cell_type": "code",
   "execution_count": 13,
   "id": "6a3c8b15-1efe-467e-9e82-f2a0793ea790",
   "metadata": {},
   "outputs": [
    {
     "data": {
      "text/plain": [
       "' self is used as a parameter which binds the variable created with the class. It makes class aware of presence of such variables inside it. '"
      ]
     },
     "execution_count": 13,
     "metadata": {},
     "output_type": "execute_result"
    }
   ],
   "source": [
    "\"\"\" self is used as a parameter which binds the variable created with the class. It makes class aware of presence of such variables inside it. \"\"\""
   ]
  },
  {
   "cell_type": "code",
   "execution_count": 14,
   "id": "4cff3e01-bfa0-4ca9-996a-f82ce0622a8d",
   "metadata": {},
   "outputs": [],
   "source": [
    "# Question No-5"
   ]
  },
  {
   "cell_type": "code",
   "execution_count": 22,
   "id": "6f0804ee-652c-4f6f-b66e-7171839c5ed4",
   "metadata": {},
   "outputs": [
    {
     "data": {
      "text/plain": [
       "' This is the parent class'"
      ]
     },
     "execution_count": 22,
     "metadata": {},
     "output_type": "execute_result"
    }
   ],
   "source": [
    "\"\"\" Inheritance means reusing contents of a pre-existing class in a new class. \"\"\"\n",
    "\"\"\" There are five types of inheritance. \"\"\"\n",
    "# Simple Inheritance\n",
    "class parent1:\n",
    "    def ftest(self):\n",
    "        return \" This is the parent class\"\n",
    "class child1(parent1):\n",
    "    pass\n",
    "a = child1()\n",
    "a.ftest()"
   ]
  },
  {
   "cell_type": "code",
   "execution_count": 33,
   "id": "01bca9f7-8f72-4473-abc3-4ddca8278031",
   "metadata": {},
   "outputs": [
    {
     "data": {
      "text/plain": [
       "' This is second parent class'"
      ]
     },
     "execution_count": 33,
     "metadata": {},
     "output_type": "execute_result"
    }
   ],
   "source": [
    "# Multiple Inheritance- Multiple parent class are inherited by child class.\n",
    "class parent1:\n",
    "    def ftest(self):\n",
    "        return \" This is the parent class\"\n",
    "class parent2:\n",
    "    def fpar(self):\n",
    "        return \" This is second parent class\"\n",
    "class child3(parent1,parent2):\n",
    "    pass\n",
    "b = child3()\n",
    "b.fpar()"
   ]
  },
  {
   "cell_type": "code",
   "execution_count": 32,
   "id": "3a650ab9-446d-4b3f-adf5-2334160f51a7",
   "metadata": {},
   "outputs": [
    {
     "data": {
      "text/plain": [
       "' This is second parent class'"
      ]
     },
     "execution_count": 32,
     "metadata": {},
     "output_type": "execute_result"
    }
   ],
   "source": [
    "# Multilevel Inheritence- Inheritance of one class is derived by other level by level.\n",
    "class parent1:\n",
    "    def fpar(self):\n",
    "        return \" This is first parent class\"\n",
    "class parent2(parent1):\n",
    "    def fpar2(self):\n",
    "        return \" This is second parent class\"\n",
    "class parent3(parent2):\n",
    "    def fpar3(self):\n",
    "        return \" This is second parent class\"       \n",
    "    pass\n",
    "b = parent3()\n",
    "b.fpar2()"
   ]
  },
  {
   "cell_type": "code",
   "execution_count": 37,
   "id": "06d99731-b888-4565-8f33-49692fc7dcee",
   "metadata": {},
   "outputs": [
    {
     "data": {
      "text/plain": [
       "'This is second child class'"
      ]
     },
     "execution_count": 37,
     "metadata": {},
     "output_type": "execute_result"
    }
   ],
   "source": [
    "# Hierarchical Inheritance- Single parent class is inherited by more than one class.\n",
    "class parent:\n",
    "    def fpar(self):\n",
    "        return \" This is the parent class\"\n",
    "class child1(parent):\n",
    "    def c1(self):\n",
    "        return \"This is first child class\"\n",
    "class child2(parent):\n",
    "    def c2(self):\n",
    "        return \"This is second child class\"\n",
    "a = child1()\n",
    "b = child2()\n",
    "b.c2()"
   ]
  },
  {
   "cell_type": "code",
   "execution_count": 38,
   "id": "7291a246-c5e6-4a47-a7c3-f47294e66c35",
   "metadata": {},
   "outputs": [
    {
     "ename": "SyntaxError",
     "evalue": "'return' outside function (3376055766.py, line 17)",
     "output_type": "error",
     "traceback": [
      "\u001b[0;36m  Cell \u001b[0;32mIn [38], line 17\u001b[0;36m\u001b[0m\n\u001b[0;31m    return \" This is second child class\"\u001b[0m\n\u001b[0m    ^\u001b[0m\n\u001b[0;31mSyntaxError\u001b[0m\u001b[0;31m:\u001b[0m 'return' outside function\n"
     ]
    }
   ],
   "source": [
    "# Hybrid Inheritance- Multiple types of inheritance.\n",
    "class parent1:\n",
    "    def ftest(self):\n",
    "        return \" This is the first parent class\"\n",
    "class child1(parent1):\n",
    "    pass\n",
    "class parent2:\n",
    "    def fpar(self):\n",
    "        return \" This is second parent class\"\n",
    "class parent3(parent2):\n",
    "    def fpar2(self):\n",
    "        return \" This is third parent class\"\n",
    "class parent4(parent3):\n",
    "    def fpar3(self):\n",
    "        return \" This is fourth parent class\"       \n",
    "class child2(parent1, parent2):\n",
    "    def fpar\n",
    "    return \" This is second child class\"\n",
    "b = child2()\n",
    "b.ftest()\n",
    "a = parent4()\n",
    "a.fpar3()"
   ]
  },
  {
   "cell_type": "code",
   "execution_count": null,
   "id": "53889fb3-3860-4660-8f66-ce5446f0f5c1",
   "metadata": {},
   "outputs": [],
   "source": []
  }
 ],
 "metadata": {
  "kernelspec": {
   "display_name": "Python 3 (ipykernel)",
   "language": "python",
   "name": "python3"
  },
  "language_info": {
   "codemirror_mode": {
    "name": "ipython",
    "version": 3
   },
   "file_extension": ".py",
   "mimetype": "text/x-python",
   "name": "python",
   "nbconvert_exporter": "python",
   "pygments_lexer": "ipython3",
   "version": "3.10.6"
  }
 },
 "nbformat": 4,
 "nbformat_minor": 5
}
