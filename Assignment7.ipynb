{
 "cells": [
  {
   "cell_type": "code",
   "execution_count": 1,
   "id": "93120e8d-d3f1-4227-b462-39d9aef0cf43",
   "metadata": {},
   "outputs": [],
   "source": [
    "# Question No-1"
   ]
  },
  {
   "cell_type": "code",
   "execution_count": 54,
   "id": "e0adfe16-01c3-430e-940f-5a8ba46fe09d",
   "metadata": {},
   "outputs": [
    {
     "name": "stdout",
     "output_type": "stream",
     "text": [
      "4134711838987085478833841242112000\n"
     ]
    }
   ],
   "source": [
    "list11 = [1,2,3,4, [44,55,66, True], False, (34,56,78,89,34), {1,2,3,3,2,1}, {1:34, \"key2\": [55, 67, 78, 89], 4: (45,\n",
    "22, 61, 34)}, [56, 'data science'], 'Machine Learning']\n",
    "\n",
    "class student:\n",
    "    def __init__(self, list1):\n",
    "        self.list1 = list1\n",
    "        \n",
    "    def listt(self, *args):\n",
    "        list2=[]\n",
    "        for i in list1:\n",
    "            if type(i) == int:\n",
    "                list2.append(i)\n",
    "            elif type(i) == list:\n",
    "                for j in i:\n",
    "                    if type(j)==int:\n",
    "                        list2.append(j)\n",
    "            elif type(i) == tuple:\n",
    "                for k in i:\n",
    "                    if type(k)==int:\n",
    "                        list2.append(k)\n",
    "            elif type(i) == set:\n",
    "                for l in list(i):\n",
    "                    if type(l)==int:\n",
    "                        list2.append(l)\n",
    "            elif type(i) == dict:\n",
    "                for m in i.items():\n",
    "                    if type(m) == tuple:\n",
    "                        for k in m:\n",
    "                            if type(k)==int:\n",
    "                                list2.append(k)\n",
    "                            elif type(k) == list:\n",
    "                                for j in k:\n",
    "                                    if type(j)==int:\n",
    "                                        list2.append(j)\n",
    "                            elif type(k) == tuple:\n",
    "                                for j in k:\n",
    "                                    if type(j)==int:\n",
    "                                        list2.append(j)         \n",
    "        a = 1\n",
    "        for i in list2:\n",
    "            a = a*i\n",
    "        print(a)\n",
    "\n",
    "if __name__ == '__main__':\n",
    "    \n",
    "    z= student(list1)\n",
    "    z.listt()"
   ]
  },
  {
   "cell_type": "code",
   "execution_count": 55,
   "id": "32e9789b-1187-4841-a18a-27f954174567",
   "metadata": {},
   "outputs": [],
   "source": [
    "# Question No-2"
   ]
  },
  {
   "cell_type": "code",
   "execution_count": 6,
   "id": "36e9b8db-76de-4f57-a3ec-027e15b45b4e",
   "metadata": {},
   "outputs": [
    {
     "name": "stdout",
     "output_type": "stream",
     "text": [
      "I$wznt$to$yexome$z$Dztz$Sxientist.\n"
     ]
    }
   ],
   "source": [
    "class encrypt:\n",
    "    def __init__(self,a):\n",
    "        self.a=a\n",
    "    def enc(self,*args):\n",
    "        b = \"\"\n",
    "        for i in a:\n",
    "            if i!=\"a\" and i!=\"b\" and i!=\"c\" and i!=\" \":\n",
    "                b = b + i\n",
    "            elif i==\"a\":\n",
    "                b = b + \"z\"\n",
    "            elif i==\"b\":\n",
    "                b = b + \"y\"\n",
    "            elif i==\"c\":\n",
    "                b = b + \"x\"\n",
    "            elif i==\" \":\n",
    "                b = b + \"$\"\n",
    "        print(b)\n",
    "\n",
    "x = \"I want to become a Data Scientist.\"\n",
    "c=encrypt(x)\n",
    "c.enc()"
   ]
  }
 ],
 "metadata": {
  "kernelspec": {
   "display_name": "Python 3 (ipykernel)",
   "language": "python",
   "name": "python3"
  },
  "language_info": {
   "codemirror_mode": {
    "name": "ipython",
    "version": 3
   },
   "file_extension": ".py",
   "mimetype": "text/x-python",
   "name": "python",
   "nbconvert_exporter": "python",
   "pygments_lexer": "ipython3",
   "version": "3.10.6"
  }
 },
 "nbformat": 4,
 "nbformat_minor": 5
}
