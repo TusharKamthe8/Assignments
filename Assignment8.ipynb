{
 "cells": [
  {
   "cell_type": "code",
   "execution_count": 1,
   "id": "2a5dff53-da81-45de-8f2b-34bd8bb8521a",
   "metadata": {},
   "outputs": [],
   "source": [
    "# Question No-1"
   ]
  },
  {
   "cell_type": "code",
   "execution_count": 36,
   "id": "6d98b353-dbab-46ce-bb75-eeb9cb9e29e0",
   "metadata": {},
   "outputs": [
    {
     "name": "stdin",
     "output_type": "stream",
     "text": [
      "Enter Password S@r@bH@090\n"
     ]
    },
    {
     "name": "stdout",
     "output_type": "stream",
     "text": [
      "Valid Password\n"
     ]
    }
   ],
   "source": [
    "class password:\n",
    "    def __init__(self,aa):\n",
    "        self.aa = aa\n",
    "    def check(self, *arg):\n",
    "        a = list(self.aa)\n",
    "        count1, count2, count3, count4, count5=0,0,0,0,0\n",
    "        for i in a:\n",
    "            if i == i.upper() and i.isalpha() == True:\n",
    "                count1 += 1\n",
    "                continue\n",
    "            elif i == i.lower() and i.isalpha() == True :\n",
    "                count2 += 1\n",
    "                continue\n",
    "            elif i.isdigit() == True:\n",
    "                count3 += 1\n",
    "                continue\n",
    "            elif i.isalnum() == False:\n",
    "                count4 += 1\n",
    "                continue\n",
    "        if count1>=2 and count2>=2 and count3>=1 and count4==3 and len(a)==10:\n",
    "            print(\"Valid Password\")\n",
    "        else:\n",
    "            print(\"Invalid Password\")\n",
    "b = input(\"Enter Password\")\n",
    "passs = password(b)\n",
    "passs.check()"
   ]
  },
  {
   "cell_type": "code",
   "execution_count": 37,
   "id": "273fdf14-e437-4f4c-8c2e-9e4b79aad930",
   "metadata": {},
   "outputs": [],
   "source": [
    "# Question No-2"
   ]
  },
  {
   "cell_type": "code",
   "execution_count": 19,
   "id": "6f035052-3600-4764-8a75-63ba9b5ef808",
   "metadata": {},
   "outputs": [
    {
     "name": "stdout",
     "output_type": "stream",
     "text": [
      "Matched\n"
     ]
    }
   ],
   "source": [
    "# a\n",
    "a1 = \"Abcd\"\n",
    "a = lambda x: \"Matched\" if x[0]==\"A\" else \" \"\n",
    "print(a(a1))"
   ]
  },
  {
   "cell_type": "code",
   "execution_count": 26,
   "id": "b98a5781-0e98-4221-8a1b-5661a0045c34",
   "metadata": {},
   "outputs": [
    {
     "name": "stdout",
     "output_type": "stream",
     "text": [
      "Numeric string\n"
     ]
    }
   ],
   "source": [
    "# b\n",
    "a = \"12234\"\n",
    "b = lambda x: \"Numeric string\" if x.isnumeric()==True else \"\"\n",
    "print(b(a))"
   ]
  },
  {
   "cell_type": "code",
   "execution_count": 27,
   "id": "170084b8-f37d-4159-a499-507d89e04499",
   "metadata": {},
   "outputs": [],
   "source": [
    "# c"
   ]
  },
  {
   "cell_type": "code",
   "execution_count": 46,
   "id": "cf6c4b4f-8910-4efe-a137-a9dd4b0d4e4f",
   "metadata": {},
   "outputs": [
    {
     "name": "stdout",
     "output_type": "stream",
     "text": [
      "[('grapes', 1000), ('mango', 99), ('orange', 80)]\n"
     ]
    }
   ],
   "source": [
    "a = [(\"mango\",99),(\"orange\",80), (\"grapes\", 1000)]\n",
    "def sort1(x):\n",
    "    x.sort(key=lambda x: x[0])\n",
    "    return x\n",
    "print(sort1(a))"
   ]
  },
  {
   "cell_type": "code",
   "execution_count": 42,
   "id": "d33f0e12-7407-45b0-b56c-b41cee172079",
   "metadata": {},
   "outputs": [],
   "source": [
    "# d"
   ]
  },
  {
   "cell_type": "code",
   "execution_count": 48,
   "id": "256d0a91-9cca-460b-a797-5caaffbaadbf",
   "metadata": {},
   "outputs": [
    {
     "name": "stdout",
     "output_type": "stream",
     "text": [
      "[1, 4, 9, 16, 25, 36, 49, 64, 81, 100]\n"
     ]
    }
   ],
   "source": [
    "a = [i*i for i in range(1,11)]\n",
    "print(a)"
   ]
  },
  {
   "cell_type": "code",
   "execution_count": 49,
   "id": "ce25348d-771d-453c-b718-bec2e174cfb8",
   "metadata": {},
   "outputs": [],
   "source": [
    "# e"
   ]
  },
  {
   "cell_type": "code",
   "execution_count": 57,
   "id": "ecc23dd6-278f-4ec7-8629-bfa48e6547f5",
   "metadata": {},
   "outputs": [
    {
     "name": "stdout",
     "output_type": "stream",
     "text": [
      "[1, 4, 9, 16, 25, 36, 49, 64, 81, 100]\n"
     ]
    }
   ],
   "source": [
    "a = range(1,11)\n",
    "b = map(lambda x:x**2,a)\n",
    "print(list(b))"
   ]
  },
  {
   "cell_type": "code",
   "execution_count": 62,
   "id": "f3ca4029-2274-4a5b-88c8-13c0f0e20080",
   "metadata": {},
   "outputs": [],
   "source": [
    "# f"
   ]
  },
  {
   "cell_type": "code",
   "execution_count": 66,
   "id": "d310259b-1418-4824-bb05-4abb3d70e3c7",
   "metadata": {},
   "outputs": [
    {
     "name": "stdin",
     "output_type": "stream",
     "text": [
      "Enter a number: 10\n"
     ]
    },
    {
     "name": "stdout",
     "output_type": "stream",
     "text": [
      "Even\n"
     ]
    }
   ],
   "source": [
    "a = int(input(\"Enter a number:\"))\n",
    "b = lambda x:\"Even\" if x%2==0 else \"Odd\"\n",
    "print(b(a))"
   ]
  },
  {
   "cell_type": "code",
   "execution_count": 67,
   "id": "cef7637e-3f5c-4bd9-9b18-190b2716b6ed",
   "metadata": {},
   "outputs": [],
   "source": [
    "# G"
   ]
  },
  {
   "cell_type": "code",
   "execution_count": 68,
   "id": "369d98cf-54c9-4054-9c12-be9ce27d5db1",
   "metadata": {},
   "outputs": [
    {
     "name": "stdout",
     "output_type": "stream",
     "text": [
      "[1, 3, 5, 7, 9]\n"
     ]
    }
   ],
   "source": [
    "a = [1,2,3,4,5,6,7,8,9,10]\n",
    "b = filter(lambda x: x%2!=0,a)\n",
    "print(list(b))"
   ]
  },
  {
   "cell_type": "code",
   "execution_count": 69,
   "id": "16ac84a4-8aa0-4f4b-a116-002c3edc48f7",
   "metadata": {},
   "outputs": [],
   "source": [
    "# H"
   ]
  },
  {
   "cell_type": "code",
   "execution_count": 72,
   "id": "cb38a403-5bcd-448e-afef-8c7a82bc73ec",
   "metadata": {},
   "outputs": [
    {
     "name": "stdout",
     "output_type": "stream",
     "text": [
      "Positive Integers: [1, 2, 3, 4, 5, 6, 0]\n",
      "Negative Integers: [-1, -2, -3, -4, -5]\n"
     ]
    }
   ],
   "source": [
    "a = [1,2,3,4,5,6,-1,-2,-3,-4,-5,0]\n",
    "b = filter(lambda x: x>=0,a)\n",
    "c = filter(lambda x: x<0,a)\n",
    "print(\"Positive Integers:\",list(b))\n",
    "print(\"Negative Integers:\",list(c))"
   ]
  }
 ],
 "metadata": {
  "kernelspec": {
   "display_name": "Python 3 (ipykernel)",
   "language": "python",
   "name": "python3"
  },
  "language_info": {
   "codemirror_mode": {
    "name": "ipython",
    "version": 3
   },
   "file_extension": ".py",
   "mimetype": "text/x-python",
   "name": "python",
   "nbconvert_exporter": "python",
   "pygments_lexer": "ipython3",
   "version": "3.10.6"
  }
 },
 "nbformat": 4,
 "nbformat_minor": 5
}
